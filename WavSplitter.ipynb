{
 "cells": [
  {
   "cell_type": "code",
   "execution_count": 1,
   "id": "99863c3c-f67c-4f15-8ed7-c62c92fc63e9",
   "metadata": {},
   "outputs": [],
   "source": [
    "import os\n",
    "import shutil\n",
    "import pydub"
   ]
  },
  {
   "cell_type": "code",
   "execution_count": 2,
   "id": "f6cccb79-6b8a-40df-8278-2095c1aa74d7",
   "metadata": {},
   "outputs": [],
   "source": [
    "my_path = r\"C:/Users/indys/Desktop/Computer Science Software/Fall2024/Parallel/FinalProject/ShredData\""
   ]
  },
  {
   "cell_type": "code",
   "execution_count": 3,
   "id": "3fb37d97-5412-421a-a8dd-9ce2c34cef29",
   "metadata": {},
   "outputs": [],
   "source": [
    "file_names = os.listdir(my_path)"
   ]
  },
  {
   "cell_type": "code",
   "execution_count": 4,
   "id": "7a7e9099-410a-465c-82a2-439c8e556d4e",
   "metadata": {},
   "outputs": [],
   "source": [
    "folder_path = my_path + r'/SplitAudio'\n",
    "if not os.path.exists(folder_path):\n",
    "    os.makedirs(folder_path)"
   ]
  },
  {
   "cell_type": "code",
   "execution_count": 5,
   "id": "8f1b35bf-7ac9-43a0-8b00-d549a0461ac4",
   "metadata": {},
   "outputs": [],
   "source": [
    "# 4 seconds per audio sample\n",
    "wav_length = 4000\n",
    "\n",
    "for my_file in file_names:\n",
    "    if '.wav' in my_file:\n",
    "        the_root = my_file[0:2]\n",
    "        the_type = my_file[2]\n",
    "\n",
    "        my_wav = pydub.AudioSegment.from_wav(my_path + r'/' + my_file)\n",
    "\n",
    "        # 900 samples per WAV file\n",
    "        for i in range(900):\n",
    "            audio_sample = my_wav[wav_length*i : wav_length*(i+1)]\n",
    "            audio_sample.export(folder_path + r'/shred___' + the_root + r'_' + the_type + r'__' + str(i).zfill(3) + r'.wav', format='wav', parameters=['-bitexact','-acodec','pcm_s16le','-ar','16000','-ac','1','-b:a','256k'])\n",
    "\n",
    "        "
   ]
  }
 ],
 "metadata": {
  "kernelspec": {
   "display_name": "Python 3 (ipykernel)",
   "language": "python",
   "name": "python3"
  },
  "language_info": {
   "codemirror_mode": {
    "name": "ipython",
    "version": 3
   },
   "file_extension": ".py",
   "mimetype": "text/x-python",
   "name": "python",
   "nbconvert_exporter": "python",
   "pygments_lexer": "ipython3",
   "version": "3.10.6"
  }
 },
 "nbformat": 4,
 "nbformat_minor": 5
}
