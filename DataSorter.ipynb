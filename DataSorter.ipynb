{
 "cells": [
  {
   "cell_type": "code",
   "execution_count": 1,
   "id": "95381da0-ca5d-4431-baa7-d991b7495f70",
   "metadata": {},
   "outputs": [],
   "source": [
    "import os, shutil"
   ]
  },
  {
   "cell_type": "code",
   "execution_count": 2,
   "id": "ecd4d00f-6989-449a-b537-6d4014826834",
   "metadata": {},
   "outputs": [],
   "source": [
    "my_path = r\"C:\\Users\\indys\\Desktop\\Computer Science Software\\Fall2024\\Parallel\\FinalProject\\chordDataset\""
   ]
  },
  {
   "cell_type": "code",
   "execution_count": 3,
   "id": "30337861-2873-4480-83cf-184bb932960b",
   "metadata": {},
   "outputs": [],
   "source": [
    "file_names = os.listdir(my_path)"
   ]
  },
  {
   "cell_type": "code",
   "execution_count": 4,
   "id": "7e4c477c-aa42-4e38-bd9f-7fc46cd627d3",
   "metadata": {},
   "outputs": [],
   "source": [
    "root_names = ['Af', 'An', 'Bf', 'Bn', 'Cn', 'Df', 'Dn', 'Ef', 'En', 'Fn', 'Gf', 'Gn']\n",
    "type_names = ['j','n','d','a']\n",
    "\n",
    "for i in range(len(root_names)):\n",
    "    for j in range(len(type_names)):\n",
    "        folder_path = my_path + r'/sorted/' + root_names[i] + r'/' + type_names[j]\n",
    "        if not os.path.exists(folder_path):\n",
    "            os.makedirs(folder_path)"
   ]
  },
  {
   "cell_type": "code",
   "execution_count": 5,
   "id": "7149ff7f-37db-4891-9639-f06d3c0dd9e0",
   "metadata": {},
   "outputs": [],
   "source": [
    "for my_file in file_names:\n",
    "    if '.wav' in my_file:\n",
    "        the_root = my_file[8:10]\n",
    "        the_type = my_file[11]\n",
    "        shutil.move(my_path + r'/' + my_file, my_path + r'/sorted/' + the_root + r'/' + the_type)"
   ]
  }
 ],
 "metadata": {
  "kernelspec": {
   "display_name": "Python 3 (ipykernel)",
   "language": "python",
   "name": "python3"
  },
  "language_info": {
   "codemirror_mode": {
    "name": "ipython",
    "version": 3
   },
   "file_extension": ".py",
   "mimetype": "text/x-python",
   "name": "python",
   "nbconvert_exporter": "python",
   "pygments_lexer": "ipython3",
   "version": "3.10.6"
  }
 },
 "nbformat": 4,
 "nbformat_minor": 5
}
